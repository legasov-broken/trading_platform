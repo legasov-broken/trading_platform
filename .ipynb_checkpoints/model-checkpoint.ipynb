{
 "cells": [
  {
   "cell_type": "code",
   "execution_count": 1,
   "metadata": {},
   "outputs": [],
   "source": [
    "import pandas as pd\n",
    "import matplotlib.pyplot as plt\n",
    "import seaborn as sns\n",
    "import numpy as np\n",
    "from sklearn.model_selection import TimeSeriesSplit\n",
    "from datetime import datetime, timedelta"
   ]
  },
  {
   "cell_type": "code",
   "execution_count": 2,
   "metadata": {},
   "outputs": [],
   "source": [
    "data = pd.read_csv('ticker_data_lite_with_TI.csv')"
   ]
  },
  {
   "cell_type": "code",
   "execution_count": 3,
   "metadata": {},
   "outputs": [],
   "source": [
    "data = data.reset_index(drop=True)\n",
    "# data = data.drop('time',axis=1)\n",
    "data = data.drop('ticker',axis=1)\n",
    "data = data.drop('industry',axis=1)"
   ]
  },
  {
   "cell_type": "code",
   "execution_count": 4,
   "metadata": {},
   "outputs": [],
   "source": [
    "data = data.drop('open',axis=1)\n",
    "data = data.drop('high',axis=1)\n",
    "data = data.drop('low',axis=1)\n",
    "data = data.drop('MA10',axis=1)\n",
    "data = data.drop('MA50',axis=1)\n",
    "data = data.dropna()"
   ]
  },
  {
   "cell_type": "code",
   "execution_count": 5,
   "metadata": {},
   "outputs": [],
   "source": [
    "# plt.figure(figsize=(12,6))\n",
    "# corrMatrix = data.corr()\n",
    "# sns.heatmap(corrMatrix, annot=True)"
   ]
  },
  {
   "cell_type": "code",
   "execution_count": 6,
   "metadata": {},
   "outputs": [
    {
     "data": {
      "text/html": [
       "<div>\n",
       "<style scoped>\n",
       "    .dataframe tbody tr th:only-of-type {\n",
       "        vertical-align: middle;\n",
       "    }\n",
       "\n",
       "    .dataframe tbody tr th {\n",
       "        vertical-align: top;\n",
       "    }\n",
       "\n",
       "    .dataframe thead th {\n",
       "        text-align: right;\n",
       "    }\n",
       "</style>\n",
       "<table border=\"1\" class=\"dataframe\">\n",
       "  <thead>\n",
       "    <tr style=\"text-align: right;\">\n",
       "      <th></th>\n",
       "      <th>time</th>\n",
       "      <th>close</th>\n",
       "      <th>volume</th>\n",
       "      <th>MA20</th>\n",
       "      <th>MA200</th>\n",
       "      <th>rsi</th>\n",
       "      <th>macd</th>\n",
       "      <th>upper_band</th>\n",
       "      <th>lower_band</th>\n",
       "      <th>RS</th>\n",
       "    </tr>\n",
       "  </thead>\n",
       "  <tbody>\n",
       "    <tr>\n",
       "      <th>240</th>\n",
       "      <td>2020-10-07</td>\n",
       "      <td>10440</td>\n",
       "      <td>5770720</td>\n",
       "      <td>9777.0</td>\n",
       "      <td>8231.685</td>\n",
       "      <td>75.829384</td>\n",
       "      <td>410.556537</td>\n",
       "      <td>10743.667635</td>\n",
       "      <td>8810.332365</td>\n",
       "      <td>20.949604</td>\n",
       "    </tr>\n",
       "    <tr>\n",
       "      <th>241</th>\n",
       "      <td>2020-10-08</td>\n",
       "      <td>10440</td>\n",
       "      <td>4663470</td>\n",
       "      <td>9835.5</td>\n",
       "      <td>8240.935</td>\n",
       "      <td>73.711340</td>\n",
       "      <td>405.356067</td>\n",
       "      <td>10814.510779</td>\n",
       "      <td>8856.489221</td>\n",
       "      <td>20.705268</td>\n",
       "    </tr>\n",
       "    <tr>\n",
       "      <th>242</th>\n",
       "      <td>2020-10-09</td>\n",
       "      <td>10530</td>\n",
       "      <td>3870610</td>\n",
       "      <td>9901.5</td>\n",
       "      <td>8250.135</td>\n",
       "      <td>73.298429</td>\n",
       "      <td>403.841669</td>\n",
       "      <td>10880.936465</td>\n",
       "      <td>8922.063535</td>\n",
       "      <td>24.386259</td>\n",
       "    </tr>\n",
       "    <tr>\n",
       "      <th>243</th>\n",
       "      <td>2020-10-12</td>\n",
       "      <td>10440</td>\n",
       "      <td>4849320</td>\n",
       "      <td>9963.0</td>\n",
       "      <td>8258.735</td>\n",
       "      <td>69.387755</td>\n",
       "      <td>390.873504</td>\n",
       "      <td>10913.658498</td>\n",
       "      <td>9012.341502</td>\n",
       "      <td>21.527130</td>\n",
       "    </tr>\n",
       "    <tr>\n",
       "      <th>244</th>\n",
       "      <td>2020-10-13</td>\n",
       "      <td>10260</td>\n",
       "      <td>4374250</td>\n",
       "      <td>10014.0</td>\n",
       "      <td>8266.435</td>\n",
       "      <td>61.951220</td>\n",
       "      <td>361.899887</td>\n",
       "      <td>10909.165965</td>\n",
       "      <td>9118.834035</td>\n",
       "      <td>20.151649</td>\n",
       "    </tr>\n",
       "  </tbody>\n",
       "</table>\n",
       "</div>"
      ],
      "text/plain": [
       "           time  close   volume     MA20     MA200        rsi        macd  \\\n",
       "240  2020-10-07  10440  5770720   9777.0  8231.685  75.829384  410.556537   \n",
       "241  2020-10-08  10440  4663470   9835.5  8240.935  73.711340  405.356067   \n",
       "242  2020-10-09  10530  3870610   9901.5  8250.135  73.298429  403.841669   \n",
       "243  2020-10-12  10440  4849320   9963.0  8258.735  69.387755  390.873504   \n",
       "244  2020-10-13  10260  4374250  10014.0  8266.435  61.951220  361.899887   \n",
       "\n",
       "       upper_band   lower_band         RS  \n",
       "240  10743.667635  8810.332365  20.949604  \n",
       "241  10814.510779  8856.489221  20.705268  \n",
       "242  10880.936465  8922.063535  24.386259  \n",
       "243  10913.658498  9012.341502  21.527130  \n",
       "244  10909.165965  9118.834035  20.151649  "
      ]
     },
     "execution_count": 6,
     "metadata": {},
     "output_type": "execute_result"
    }
   ],
   "source": [
    "data.head()"
   ]
  },
  {
   "cell_type": "code",
   "execution_count": 7,
   "metadata": {},
   "outputs": [],
   "source": [
    "# Your dataset\n",
    "data = data\n",
    "\n",
    "# Convert the 'time' column to datetime\n",
    "data['time'] = pd.to_datetime(data['time'])\n",
    "\n",
    "# Define the number of test sets and the number of days for training before each test set\n",
    "num_test_sets = 60\n",
    "test_set_size = 21\n",
    "training_window = 126  # 6 months\n",
    "\n",
    "# Split data into multiple time series cross-validation sets\n",
    "tscv = TimeSeriesSplit(n_splits=num_test_sets)\n",
    "\n",
    "# Create a list to store the train-test splits\n",
    "train_test_splits = []\n",
    "\n",
    "# Start date for the data\n",
    "start_date = datetime(2016, 1, 1)\n",
    "\n",
    "# Generate train-test splits\n",
    "for train_index, test_index in tscv.split(data):\n",
    "    # Define the date ranges for each train and test set\n",
    "    train_start_date = start_date + timedelta(days=training_window)\n",
    "    train_end_date = start_date + timedelta(days=training_window + int(train_index[-1]) + 1)\n",
    "    test_start_date = train_end_date + timedelta(days=1)\n",
    "    test_end_date = test_start_date + timedelta(days=int(test_index[-1]) + 1)\n",
    "\n",
    "    # Split the data into train and test sets\n",
    "    train_set = data[(data['time'] >= train_start_date) & (data['time'] <= train_end_date)]\n",
    "    test_set = data[(data['time'] >= test_start_date) & (data['time'] <= test_end_date)]\n",
    "\n",
    "    train_test_splits.append((train_set, test_set))\n",
    "\n",
    "    # Move the start date for the next iteration\n",
    "    start_date = test_start_date\n"
   ]
  },
  {
   "cell_type": "code",
   "execution_count": null,
   "metadata": {},
   "outputs": [
    {
     "ename": "NameError",
     "evalue": "name 'train_test_split' is not defined",
     "output_type": "error",
     "traceback": [
      "\u001b[0;31m---------------------------------------------------------------------------\u001b[0m",
      "\u001b[0;31mNameError\u001b[0m                                 Traceback (most recent call last)",
      "\u001b[1;32m/home/annel/documents/trading platform/model.ipynb Cell 8\u001b[0m line \u001b[0;36m1\n\u001b[0;32m----> <a href='vscode-notebook-cell://wsl%2Bubuntu/home/annel/documents/trading%20platform/model.ipynb#X10sdnNjb2RlLXJlbW90ZQ%3D%3D?line=0'>1</a>\u001b[0m train_test_split[\u001b[39m0\u001b[39m]\n",
      "\u001b[0;31mNameError\u001b[0m: name 'train_test_split' is not defined"
     ]
    }
   ],
   "source": [
    "train_test_splits[0]"
   ]
  }
 ],
 "metadata": {
  "kernelspec": {
   "display_name": "Python 3",
   "language": "python",
   "name": "python3"
  },
  "language_info": {
   "codemirror_mode": {
    "name": "ipython",
    "version": 3
   },
   "file_extension": ".py",
   "mimetype": "text/x-python",
   "name": "python",
   "nbconvert_exporter": "python",
   "pygments_lexer": "ipython3",
   "version": "3.10.12"
  }
 },
 "nbformat": 4,
 "nbformat_minor": 2
}
